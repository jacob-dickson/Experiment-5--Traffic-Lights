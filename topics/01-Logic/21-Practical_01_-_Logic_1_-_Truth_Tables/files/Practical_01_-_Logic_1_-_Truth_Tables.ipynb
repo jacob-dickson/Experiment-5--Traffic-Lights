{
  "cells": [
    {
      "cell_type": "markdown",
      "metadata": {
        "id": "view-in-github",
        "colab_type": "text"
      },
      "source": [
        "<a href=\"https://colab.research.google.com/github/jacob-dickson/Experiment-5--Traffic-Lights/blob/master/topics/01-Logic/21-Practical_01_-_Logic_1_-_Truth_Tables/files/Practical_01_-_Logic_1_-_Truth_Tables.ipynb\" target=\"_parent\"><img src=\"https://colab.research.google.com/assets/colab-badge.svg\" alt=\"Open In Colab\"/></a>"
      ]
    },
    {
      "cell_type": "markdown",
      "metadata": {
        "id": "a3fCQB52Vsr5"
      },
      "source": [
        "# Practical 01 - Logic 1 (Truth tables)"
      ]
    },
    {
      "cell_type": "markdown",
      "metadata": {
        "id": "MI7jDjgIVsr6"
      },
      "source": [
        "## Setup"
      ]
    },
    {
      "cell_type": "code",
      "execution_count": null,
      "metadata": {
        "cellView": "form",
        "id": "A_u9vZ6tV6ql"
      },
      "outputs": [],
      "source": [
        "#@markdown **Please enter your following details and press Shift-Enter to save:**\n",
        "your_student_number = '20102440' #@param {type: \"string\"}\n",
        "your_name = 'Jabez Dickson' #@param {type: \"string\"}"
      ]
    },
    {
      "cell_type": "code",
      "execution_count": 1,
      "metadata": {
        "colab": {
          "base_uri": "https://localhost:8080/",
          "height": 53
        },
        "id": "wtgipwkAV-v9",
        "outputId": "1bbf29bb-5d87-4816-8658-4c8b8839d2ff"
      },
      "outputs": [
        {
          "output_type": "stream",
          "name": "stdout",
          "text": [
            "Loading ... \n"
          ]
        },
        {
          "output_type": "display_data",
          "data": {
            "text/plain": [
              "<IPython.core.display.HTML object>"
            ],
            "text/html": [
              "<script>alert('Make sure to specify your student ID and your name in the Setup section of this notebook.');</script>"
            ]
          },
          "metadata": {}
        },
        {
          "output_type": "execute_result",
          "data": {
            "text/plain": [
              "<IPython.core.display.HTML object>"
            ],
            "text/html": [
              "<style>\n",
              "\n",
              "\n",
              "\n",
              "/* counting headers and my styling */\n",
              "\n",
              ".navbar-collapse.collapse {\n",
              "display: block!important;\n",
              "}\n",
              "\n",
              ".navbar-nav>li, .navbar-nav {\n",
              "float: left !important;\n",
              "}\n",
              "\n",
              ".navbar-nav.navbar-right:last-child {\n",
              "margin-right: -15px !important;\n",
              "}\n",
              "\n",
              ".navbar-right {\n",
              "float: right!important;\n",
              "}\n",
              "\n",
              "#notebook_name {\n",
              "    font-weight: 600;\n",
              "}\n",
              "\n",
              "h1 {\n",
              "\ttext-align: center;\n",
              "\tbackground-color: rgba(0,255,1,0.15);\n",
              "\tborder-bottom: 1px solid #cccccc;\n",
              "\tcounter-reset: h2counter;\t\n",
              "}\n",
              "\n",
              "h2 {\n",
              "\ttext-align: center;\n",
              "\twidth: 75%;\n",
              "\tmargin-left: 25%;\n",
              "\tbackground-color: rgba(255,255,1,0.15);\n",
              "\tborder-bottom: 1px solid #cccccc;\n",
              "\tcounter-reset: h3counter;\t\n",
              "}\n",
              "h2:before {\n",
              "\tcounter-increment: h2counter;\n",
              "}\n",
              "\n",
              "h3 {\n",
              "\tborder-bottom: 1px solid #cccccc;\t\n",
              "}\n",
              "h3:before {\n",
              "\tcounter-increment: h3counter;\n",
              "}\n",
              "\n",
              "h4 {\n",
              "\tborder-bottom: 1px solid #cccccc;\t\n",
              "}\n",
              "h4:before {\n",
              "\tcounter-increment: h4counter;\n",
              "}\n",
              " </style>Python practical setup tools version 2021.2. See <a target=\"_blank\" href=\"http://DiscreteMathematics-202122.github.io/liv/\">DiscreteMathematics-202122.github.io/live</a>"
            ]
          },
          "metadata": {},
          "execution_count": 1
        }
      ],
      "source": [
        "# setup magic, do not edit this cell! Just press Shift+Enter or click on arrow at top-left\n",
        "\n",
        "import urllib.request\n",
        "content = urllib.request.urlretrieve (\"http://discretemathematics-202122.github.io/live/resources/setup_practical_magic.py\")\n",
        "exec(open(content[0]).read())\n",
        "setup_practical(locals())"
      ]
    },
    {
      "cell_type": "markdown",
      "metadata": {
        "id": "P9Ik45HRVssK"
      },
      "source": [
        "---\n",
        "## Introduction\n",
        "\n",
        "In this practical we will\n",
        " \n",
        "  * Demonstrate the Python implementation of the logical connectives that we covered in lectures,\n",
        "  * Use Python to build the (easy but boring and error-prone) truth tables.\n",
        "  * Use truth table to check expressions."
      ]
    },
    {
      "cell_type": "markdown",
      "metadata": {
        "id": "iM-VM_-Bdq-L"
      },
      "source": [
        "### Mathematics Concepts\n",
        "\n",
        " * Propositions\n",
        " * Fundamental logical connectives __not__, __and__, and __or__.\n",
        " * Satisfiability, tautologies and contradictions.\n",
        " * Logical equivalent expressions. \n"
      ]
    },
    {
      "cell_type": "markdown",
      "metadata": {
        "id": "1qGHTUHCVssL"
      },
      "source": [
        "### Python Concepts\n",
        "\n",
        " * Logical operators `not`, `and`, and `or`.\n",
        " * Command `TruthTable` to build a truth table of an expression.\n",
        "---\n",
        " "
      ]
    },
    {
      "cell_type": "markdown",
      "metadata": {
        "id": "zSmNMORPVssM"
      },
      "source": [
        "## Boolean Values and Expressions \n",
        "\n",
        "A Boolean value is either `True` or `False`. It is named after the British mathematician, [George Boole](https://en.wikipedia.org/wiki/George_Boole), who first formulated Boolean algebra &mdash; a set of  rules for reasoning about and combining `True`\\ `False` statements. This is the basis of all modern computer logic.\n",
        "\n",
        "In Python, the two Boolean values are __True__ and __False__ (Note: The capitalization must be exactly as shown. This differs from processing/java which both used lower case.), and the Python type is __bool__."
      ]
    },
    {
      "cell_type": "code",
      "execution_count": 2,
      "metadata": {
        "colab": {
          "base_uri": "https://localhost:8080/"
        },
        "id": "vhT4tMdCVssN",
        "outputId": "e4f6a8f8-1a87-4973-93a7-0de3210ed029"
      },
      "outputs": [
        {
          "output_type": "execute_result",
          "data": {
            "text/plain": [
              "bool"
            ]
          },
          "metadata": {},
          "execution_count": 2
        }
      ],
      "source": [
        "type(True)"
      ]
    },
    {
      "cell_type": "code",
      "execution_count": 3,
      "metadata": {
        "colab": {
          "base_uri": "https://localhost:8080/"
        },
        "id": "_4Z4Kf9uVssQ",
        "outputId": "a01e2363-be8f-4745-8463-00d46f979580"
      },
      "outputs": [
        {
          "output_type": "execute_result",
          "data": {
            "text/plain": [
              "bool"
            ]
          },
          "metadata": {},
          "execution_count": 3
        }
      ],
      "source": [
        "type(False)"
      ]
    },
    {
      "cell_type": "markdown",
      "metadata": {
        "id": "luybwjamVssT"
      },
      "source": [
        "In Python __False__ and __True__, map to __0__ and __1__ respectively."
      ]
    },
    {
      "cell_type": "code",
      "execution_count": 4,
      "metadata": {
        "colab": {
          "base_uri": "https://localhost:8080/"
        },
        "id": "2738tHwWVssT",
        "outputId": "be7996ba-6f81-49d4-8d3c-9e0a470286f0"
      },
      "outputs": [
        {
          "output_type": "execute_result",
          "data": {
            "text/plain": [
              "1"
            ]
          },
          "metadata": {},
          "execution_count": 4
        }
      ],
      "source": [
        "int(True)"
      ]
    },
    {
      "cell_type": "code",
      "execution_count": 5,
      "metadata": {
        "colab": {
          "base_uri": "https://localhost:8080/"
        },
        "id": "xF2e43TnexoG",
        "outputId": "dcd979be-ed67-45c9-d6f5-8e75d1ab2d97"
      },
      "outputs": [
        {
          "output_type": "execute_result",
          "data": {
            "text/plain": [
              "0"
            ]
          },
          "metadata": {},
          "execution_count": 5
        }
      ],
      "source": [
        "int(False)"
      ]
    },
    {
      "cell_type": "markdown",
      "metadata": {
        "id": "expO9yRqfVi4"
      },
      "source": [
        "In arithmetic expressions involving `bool`s and and `int`s, the `bool`s are automatically converted to `int`. For example"
      ]
    },
    {
      "cell_type": "code",
      "execution_count": 6,
      "metadata": {
        "colab": {
          "base_uri": "https://localhost:8080/"
        },
        "id": "6mvGKuFaVssW",
        "outputId": "405f6a8a-f9e3-4a68-adc2-8e5c4d926fc7"
      },
      "outputs": [
        {
          "output_type": "execute_result",
          "data": {
            "text/plain": [
              "2"
            ]
          },
          "metadata": {},
          "execution_count": 6
        }
      ],
      "source": [
        "True + 1"
      ]
    },
    {
      "cell_type": "markdown",
      "metadata": {
        "id": "g4D8leSOVssY"
      },
      "source": [
        "A __Boolean expression__ is an expression that evaluates to produce a result which is a Boolean value. For example, the operator == tests if two values are equal. It produces (or yields) a Boolean value.\n",
        "\n",
        "Note \n",
        " \n",
        " * Unlike in mathematica where we use \"$=$\" for both assignment and testing in most programming languages we use two different symbols. In python (and in processing and in java) we use \n",
        "   * \"`='\" for assignment.\n",
        "   * \"`=='\" for testing for equality.\n",
        "   \n",
        " * Also we use \"`!=`\" for testing \"not equal to\"."
      ]
    },
    {
      "cell_type": "code",
      "execution_count": 7,
      "metadata": {
        "colab": {
          "base_uri": "https://localhost:8080/"
        },
        "id": "7JbwdfrOVssY",
        "outputId": "c0f585be-b343-4ee4-b4a7-2442dbc74c59"
      },
      "outputs": [
        {
          "output_type": "execute_result",
          "data": {
            "text/plain": [
              "True"
            ]
          },
          "metadata": {},
          "execution_count": 7
        }
      ],
      "source": [
        "5 == (3 + 2)   # Is five equal 5 to the result of 3 + 2?"
      ]
    },
    {
      "cell_type": "code",
      "execution_count": 8,
      "metadata": {
        "colab": {
          "base_uri": "https://localhost:8080/"
        },
        "id": "JdIyGR-hVssa",
        "outputId": "c449fa96-977e-41a8-da75-abe661630b24"
      },
      "outputs": [
        {
          "output_type": "execute_result",
          "data": {
            "text/plain": [
              "False"
            ]
          },
          "metadata": {},
          "execution_count": 8
        }
      ],
      "source": [
        "5 == 6"
      ]
    },
    {
      "cell_type": "code",
      "execution_count": 9,
      "metadata": {
        "colab": {
          "base_uri": "https://localhost:8080/"
        },
        "id": "CwnCDvEoVssc",
        "outputId": "aaeeb618-b728-4a32-fb72-80298b55ba9b"
      },
      "outputs": [
        {
          "output_type": "execute_result",
          "data": {
            "text/plain": [
              "False"
            ]
          },
          "metadata": {},
          "execution_count": 9
        }
      ],
      "source": [
        "3 == \"3\"    # a number and a string containing a number are different"
      ]
    },
    {
      "cell_type": "markdown",
      "metadata": {
        "id": "0occ6bw1Vsse"
      },
      "source": [
        "## Logical Operators\n",
        "\n",
        "The logical connectives that we use in Mathmatics have corresponding operators in Python.  \n",
        "\n",
        "|Mathematics | Python| precedence |\n",
        "|------------|-------|------------|\n",
        "| $\\lnot$    |  not  | high       |\n",
        "| $\\land$    |  and  | medium     |\n",
        "| $\\lor$     |   or  | low        |\n",
        "\n",
        "These logical operators can be used to construct arbitrary complex logical expressions.  Note that the operators have different precedence  (similar to multiplication over addition).  \n",
        "\n",
        "**When in doubt use brackets !!**"
      ]
    },
    {
      "cell_type": "code",
      "execution_count": 10,
      "metadata": {
        "colab": {
          "base_uri": "https://localhost:8080/"
        },
        "id": "koO_LR_xVssf",
        "outputId": "55e2e80d-aab9-448b-a081-2dc9161261b7"
      },
      "outputs": [
        {
          "output_type": "execute_result",
          "data": {
            "text/plain": [
              "True"
            ]
          },
          "metadata": {},
          "execution_count": 10
        }
      ],
      "source": [
        "not not True"
      ]
    },
    {
      "cell_type": "markdown",
      "metadata": {
        "id": "gZ7y7X4-Vssh"
      },
      "source": [
        "### Logical Operator precedence "
      ]
    },
    {
      "cell_type": "code",
      "execution_count": 11,
      "metadata": {
        "colab": {
          "base_uri": "https://localhost:8080/"
        },
        "id": "8XhGikTAVssh",
        "outputId": "5aca1353-6c6b-451d-9a27-ef746245dfcc"
      },
      "outputs": [
        {
          "output_type": "execute_result",
          "data": {
            "text/plain": [
              "True"
            ]
          },
          "metadata": {},
          "execution_count": 11
        }
      ],
      "source": [
        "# which operator is computed first ?\n",
        "True or False and False"
      ]
    },
    {
      "cell_type": "code",
      "execution_count": 12,
      "metadata": {
        "colab": {
          "base_uri": "https://localhost:8080/"
        },
        "id": "7MmTJGHcVssj",
        "outputId": "b6e56cd7-739e-492c-f1de-825de13e068e"
      },
      "outputs": [
        {
          "output_type": "execute_result",
          "data": {
            "text/plain": [
              "False"
            ]
          },
          "metadata": {},
          "execution_count": 12
        }
      ],
      "source": [
        "# Applying the or operator first ...\n",
        "(True or False) and False"
      ]
    },
    {
      "cell_type": "code",
      "execution_count": 13,
      "metadata": {
        "colab": {
          "base_uri": "https://localhost:8080/"
        },
        "id": "Wxpm-WrpVssl",
        "outputId": "b4df93a7-6b96-4495-d038-c2f10e8c467c"
      },
      "outputs": [
        {
          "output_type": "execute_result",
          "data": {
            "text/plain": [
              "True"
            ]
          },
          "metadata": {},
          "execution_count": 13
        }
      ],
      "source": [
        "# Applying the and operator first ...\n",
        "True or (False and False)"
      ]
    },
    {
      "cell_type": "markdown",
      "metadata": {
        "id": "VlSAGHbkVssm"
      },
      "source": [
        "## Truth Tables\n",
        "\n",
        "Later in this module we will use Python loops to build truth tables. In the meantime, we will use a helper function, __TruthTable__ to make life easier. You can use  \n",
        "\n",
        " * __TruthTable('expression')__ to build the truth table for __expression__\n",
        "\n",
        "    This function can be used to check if an expression is _satisfiable_, is a _tautology_ or is a _contradiction_.\n",
        " \n",
        " * __TruthTable(['expression 1', 'expression 2'])__ to build the truth table for __expression 1__ and __expression 2__\n",
        " * __TruthTable(['expression 1', 'expression 2', 'expression 3'])__ to build the truth table for __expression 1__, __expression 2__ and __expression 3__, etc.\n",
        "\n",
        "  \n",
        " This function can be used to check if logical expressions are equivalent.\n",
        " \n",
        " * Finaly if you append option __ints=True__ then the __0__/__1__ will be used for __False__/__True__.\n",
        " "
      ]
    },
    {
      "cell_type": "code",
      "execution_count": 14,
      "metadata": {
        "colab": {
          "base_uri": "https://localhost:8080/",
          "height": 123
        },
        "id": "qnTq4q-oVssn",
        "outputId": "c932e255-8d88-45a1-a9d6-dd27c4bb2796"
      },
      "outputs": [
        {
          "output_type": "execute_result",
          "data": {
            "text/plain": [
              "<IPython.core.display.HTML object>"
            ],
            "text/html": [
              "<table id=\"truthtable\">\n",
              "<thead><tr><th>a</th><th>b</th><th>not (not a or b)</th></tr></thead>\n",
              "<tbody>\n",
              "<tr><td>False</td><td>False</td><td>False</td></tr>\n",
              "<tr><td>False</td><td>True</td><td>False</td></tr>\n",
              "<tr><td>True</td><td>False</td><td>True</td></tr>\n",
              "<tr><td>True</td><td>True</td><td>False</td></tr>\n",
              "</tbody>\n",
              "</table>"
            ]
          },
          "metadata": {},
          "execution_count": 14
        }
      ],
      "source": [
        "TruthTable('not (not a or b)')"
      ]
    },
    {
      "cell_type": "code",
      "execution_count": 15,
      "metadata": {
        "colab": {
          "base_uri": "https://localhost:8080/",
          "height": 123
        },
        "id": "zBPyfZy8iBWi",
        "outputId": "57e36b61-c809-4568-fe7b-742b3d2fd997"
      },
      "outputs": [
        {
          "output_type": "execute_result",
          "data": {
            "text/plain": [
              "<IPython.core.display.HTML object>"
            ],
            "text/html": [
              "<table id=\"truthtable\">\n",
              "<thead><tr><th>a</th><th>b</th><th>not (not a or b)</th></tr></thead>\n",
              "<tbody>\n",
              "<tr><td>0</td><td>0</td><td>0</td></tr>\n",
              "<tr><td>0</td><td>1</td><td>0</td></tr>\n",
              "<tr><td>1</td><td>0</td><td>1</td></tr>\n",
              "<tr><td>1</td><td>1</td><td>0</td></tr>\n",
              "</tbody>\n",
              "</table>"
            ]
          },
          "metadata": {},
          "execution_count": 15
        }
      ],
      "source": [
        "TruthTable('not (not a or b)',  ints=True)"
      ]
    },
    {
      "cell_type": "code",
      "execution_count": 16,
      "metadata": {
        "colab": {
          "base_uri": "https://localhost:8080/",
          "height": 123
        },
        "id": "VTx2ZbLiVsso",
        "outputId": "50aea76d-592e-40fb-c4d0-80b293ab4e18"
      },
      "outputs": [
        {
          "output_type": "execute_result",
          "data": {
            "text/plain": [
              "<IPython.core.display.HTML object>"
            ],
            "text/html": [
              "<table id=\"truthtable\">\n",
              "<thead><tr><th>a</th><th>b</th><th>a or b</th><th>a and b</th></tr></thead>\n",
              "<tbody>\n",
              "<tr><td>False</td><td>False</td><td>False</td><td>False</td></tr>\n",
              "<tr><td>False</td><td>True</td><td>True</td><td>False</td></tr>\n",
              "<tr><td>True</td><td>False</td><td>True</td><td>False</td></tr>\n",
              "<tr><td>True</td><td>True</td><td>True</td><td>True</td></tr>\n",
              "</tbody>\n",
              "</table>"
            ]
          },
          "metadata": {},
          "execution_count": 16
        }
      ],
      "source": [
        "TruthTable(['a or b', 'a and b'])"
      ]
    },
    {
      "cell_type": "code",
      "execution_count": 17,
      "metadata": {
        "colab": {
          "base_uri": "https://localhost:8080/",
          "height": 207
        },
        "id": "sM0TL4XAVssq",
        "outputId": "0982c887-4e3f-4cff-dc3b-8dba88b41696"
      },
      "outputs": [
        {
          "output_type": "execute_result",
          "data": {
            "text/plain": [
              "<IPython.core.display.HTML object>"
            ],
            "text/html": [
              "<table id=\"truthtable\">\n",
              "<thead><tr><th>p</th><th>q</th><th>r</th><th>(p or (p and q)) and (p or not r)</th><th>p or (q and not r)</th></tr></thead>\n",
              "<tbody>\n",
              "<tr><td>False</td><td>False</td><td>False</td><td>False</td><td>False</td></tr>\n",
              "<tr><td>False</td><td>False</td><td>True</td><td>False</td><td>False</td></tr>\n",
              "<tr><td>False</td><td>True</td><td>False</td><td>False</td><td>True</td></tr>\n",
              "<tr><td>False</td><td>True</td><td>True</td><td>False</td><td>False</td></tr>\n",
              "<tr><td>True</td><td>False</td><td>False</td><td>True</td><td>True</td></tr>\n",
              "<tr><td>True</td><td>False</td><td>True</td><td>True</td><td>True</td></tr>\n",
              "<tr><td>True</td><td>True</td><td>False</td><td>True</td><td>True</td></tr>\n",
              "<tr><td>True</td><td>True</td><td>True</td><td>True</td><td>True</td></tr>\n",
              "</tbody>\n",
              "</table>"
            ]
          },
          "metadata": {},
          "execution_count": 17
        }
      ],
      "source": [
        "TruthTable([\"(p or (p and q)) and (p or not r)\", \"p or (q and not r)\"])"
      ]
    },
    {
      "cell_type": "markdown",
      "metadata": {
        "id": "LnPvfdtcVsss"
      },
      "source": [
        "## Exercises"
      ]
    },
    {
      "cell_type": "markdown",
      "metadata": {
        "id": "qAufX-9aVsss"
      },
      "source": [
        "### Question 1\n",
        "\n",
        "Construct the truth table for $p \\lor (\\lnot p \\land q)$"
      ]
    },
    {
      "cell_type": "markdown",
      "metadata": {
        "id": "_qab2u9eiIvJ"
      },
      "source": []
    },
    {
      "cell_type": "code",
      "execution_count": 19,
      "metadata": {
        "id": "jS4mrDbiVsss",
        "colab": {
          "base_uri": "https://localhost:8080/",
          "height": 123
        },
        "outputId": "69ec42bd-9e56-4e7b-cbd9-572ec2e7cd9b"
      },
      "outputs": [
        {
          "output_type": "execute_result",
          "data": {
            "text/plain": [
              "<IPython.core.display.HTML object>"
            ],
            "text/html": [
              "<table id=\"truthtable\">\n",
              "<thead><tr><th>p</th><th>q</th><th>p and (not p and q)</th></tr></thead>\n",
              "<tbody>\n",
              "<tr><td>False</td><td>False</td><td>False</td></tr>\n",
              "<tr><td>False</td><td>True</td><td>False</td></tr>\n",
              "<tr><td>True</td><td>False</td><td>False</td></tr>\n",
              "<tr><td>True</td><td>True</td><td>False</td></tr>\n",
              "</tbody>\n",
              "</table>"
            ]
          },
          "metadata": {},
          "execution_count": 19
        }
      ],
      "source": [
        "# Question 1\n",
        "TruthTable([\"p and (not p and q)\"])"
      ]
    },
    {
      "cell_type": "markdown",
      "metadata": {
        "id": "i_dxxrcYVssv"
      },
      "source": [
        "### Question 2\n",
        "\n",
        "Construct the truth table for $\\lnot p \\land (p\\to q)$\n",
        "\n",
        "Note that you will need to express the conditional operator in terms of __not__, __and__, and __or__. (see notes)"
      ]
    },
    {
      "cell_type": "code",
      "execution_count": 25,
      "metadata": {
        "id": "U4IZ1k0EVssv",
        "colab": {
          "base_uri": "https://localhost:8080/",
          "height": 123
        },
        "outputId": "5b64f910-2be7-4f7c-8c4b-d0a315b20598"
      },
      "outputs": [
        {
          "output_type": "execute_result",
          "data": {
            "text/plain": [
              "<IPython.core.display.HTML object>"
            ],
            "text/html": [
              "<table id=\"truthtable\">\n",
              "<thead><tr><th>p</th><th>q</th><th>not p and (p or q)</th></tr></thead>\n",
              "<tbody>\n",
              "<tr><td>False</td><td>False</td><td>False</td></tr>\n",
              "<tr><td>False</td><td>True</td><td>True</td></tr>\n",
              "<tr><td>True</td><td>False</td><td>False</td></tr>\n",
              "<tr><td>True</td><td>True</td><td>False</td></tr>\n",
              "</tbody>\n",
              "</table>"
            ]
          },
          "metadata": {},
          "execution_count": 25
        }
      ],
      "source": [
        "# Question 2\n",
        "TruthTable([\"not p and (p or q)\"])"
      ]
    },
    {
      "cell_type": "markdown",
      "metadata": {
        "id": "jZ5tqdbvVssw"
      },
      "source": [
        "### Question 3\n",
        "\n",
        " **a)** Construct the truth table for $(p \\land (\\lnot(\\lnot p \\lor q))) \\lor (p \\land q)$\n",
        " \n",
        " **b)** Is the expression in part **a)** logically equivalent to $p$ (Given reason) ?"
      ]
    },
    {
      "cell_type": "code",
      "execution_count": 28,
      "metadata": {
        "id": "I0nZ2Bq6Vssx",
        "colab": {
          "base_uri": "https://localhost:8080/",
          "height": 123
        },
        "outputId": "2ebe899b-eaf6-44b9-ec71-e6b1c6d470be"
      },
      "outputs": [
        {
          "output_type": "execute_result",
          "data": {
            "text/plain": [
              "<IPython.core.display.HTML object>"
            ],
            "text/html": [
              "<table id=\"truthtable\">\n",
              "<thead><tr><th>p</th><th>q</th><th>(p or (not(not p and q))) and (p or q)</th></tr></thead>\n",
              "<tbody>\n",
              "<tr><td>False</td><td>False</td><td>False</td></tr>\n",
              "<tr><td>False</td><td>True</td><td>False</td></tr>\n",
              "<tr><td>True</td><td>False</td><td>True</td></tr>\n",
              "<tr><td>True</td><td>True</td><td>True</td></tr>\n",
              "</tbody>\n",
              "</table>"
            ]
          },
          "metadata": {},
          "execution_count": 28
        }
      ],
      "source": [
        "# Question 3(a)\n",
        "TruthTable([\"(p or (not(not p and q))) and (p or q)\"])"
      ]
    },
    {
      "cell_type": "markdown",
      "metadata": {
        "id": "Yf98iHdCVssy"
      },
      "source": [
        "Question 3(b)\n",
        "\n",
        "This is a markdown cell (not a code cell), so just type answer here as normal text.\n",
        "\n"
      ]
    },
    {
      "cell_type": "markdown",
      "metadata": {
        "id": "0PKkopHuVssz"
      },
      "source": [
        "### Question 4\n",
        "\n",
        " **a)** Construct truth tables to determine whether the logical expressions \n",
        " \n",
        "$$\n",
        "     \\lnot(p \\lor q)\n",
        "     \\qquad\\text{and}\\qquad\n",
        "     (\\lnot p) \\land (\\lnot q)\n",
        " $$ are logically equivalent. \n",
        " \n",
        " **Hint:** They are and are called __De Morgan's laws__)"
      ]
    },
    {
      "cell_type": "code",
      "execution_count": 29,
      "metadata": {
        "id": "-lscqe2LVssz",
        "colab": {
          "base_uri": "https://localhost:8080/",
          "height": 123
        },
        "outputId": "6eea2183-2efc-4add-bccb-7c8ebe1828ca"
      },
      "outputs": [
        {
          "output_type": "execute_result",
          "data": {
            "text/plain": [
              "<IPython.core.display.HTML object>"
            ],
            "text/html": [
              "<table id=\"truthtable\">\n",
              "<thead><tr><th>p</th><th>q</th><th>not(p and q) and (not p) or (not q)</th></tr></thead>\n",
              "<tbody>\n",
              "<tr><td>False</td><td>False</td><td>True</td></tr>\n",
              "<tr><td>False</td><td>True</td><td>True</td></tr>\n",
              "<tr><td>True</td><td>False</td><td>True</td></tr>\n",
              "<tr><td>True</td><td>True</td><td>False</td></tr>\n",
              "</tbody>\n",
              "</table>"
            ]
          },
          "metadata": {},
          "execution_count": 29
        }
      ],
      "source": [
        "# Question 4\n",
        "TruthTable([\"not(p and q) and (not p) or (not q)\"])"
      ]
    },
    {
      "cell_type": "markdown",
      "metadata": {
        "id": "xhcWhb-9Vss1"
      },
      "source": [
        "### Question 5\n",
        "\n",
        "Construct the truth table for $p \\lor (\\lnot p \\land q) \\to (p \\land q)$.\n",
        "\n",
        "**Hint:** You need to replace the conditional operator with a logical equivalent expression in terms of given operators (see notes). "
      ]
    },
    {
      "cell_type": "code",
      "execution_count": 32,
      "metadata": {
        "id": "l8ODgkOfVss1",
        "colab": {
          "base_uri": "https://localhost:8080/",
          "height": 123
        },
        "outputId": "5abf351b-65c0-4917-9110-a95ee8ad6b8c"
      },
      "outputs": [
        {
          "output_type": "execute_result",
          "data": {
            "text/plain": [
              "<IPython.core.display.HTML object>"
            ],
            "text/html": [
              "<table id=\"truthtable\">\n",
              "<thead><tr><th>p</th><th>q</th><th>p and (not p or q) or (p or q)</th></tr></thead>\n",
              "<tbody>\n",
              "<tr><td>False</td><td>False</td><td>False</td></tr>\n",
              "<tr><td>False</td><td>True</td><td>True</td></tr>\n",
              "<tr><td>True</td><td>False</td><td>True</td></tr>\n",
              "<tr><td>True</td><td>True</td><td>True</td></tr>\n",
              "</tbody>\n",
              "</table>"
            ]
          },
          "metadata": {},
          "execution_count": 32
        }
      ],
      "source": [
        "# Question 5\n",
        "TruthTable([\"p and (not p or q) or (p or q)\"])"
      ]
    },
    {
      "cell_type": "code",
      "execution_count": 33,
      "metadata": {
        "id": "a-MnzMBrgx_P",
        "colab": {
          "base_uri": "https://localhost:8080/",
          "height": 123
        },
        "outputId": "bb2b0c20-e93f-4e8e-b419-f81adc9203a9"
      },
      "outputs": [
        {
          "output_type": "execute_result",
          "data": {
            "text/plain": [
              "<IPython.core.display.HTML object>"
            ],
            "text/html": [
              "<table id=\"truthtable\">\n",
              "<thead><tr><th>p</th><th>q</th><th>not(p and q) and (not p) or (not q)</th></tr></thead>\n",
              "<tbody>\n",
              "<tr><td>False</td><td>False</td><td>True</td></tr>\n",
              "<tr><td>False</td><td>True</td><td>True</td></tr>\n",
              "<tr><td>True</td><td>False</td><td>True</td></tr>\n",
              "<tr><td>True</td><td>True</td><td>False</td></tr>\n",
              "</tbody>\n",
              "</table>"
            ]
          },
          "metadata": {},
          "execution_count": 33
        }
      ],
      "source": [
        "TruthTable([\"not(p and q) and (not p) or (not q)\"])"
      ]
    },
    {
      "cell_type": "code",
      "execution_count": 34,
      "metadata": {
        "id": "uq-8Gsbngxxp",
        "colab": {
          "base_uri": "https://localhost:8080/",
          "height": 123
        },
        "outputId": "39c6b31a-d732-437e-d46c-d2c5de2bc680"
      },
      "outputs": [
        {
          "output_type": "execute_result",
          "data": {
            "text/plain": [
              "<IPython.core.display.HTML object>"
            ],
            "text/html": [
              "<table id=\"truthtable\">\n",
              "<thead><tr><th>p</th><th>q</th><th>(p or (not(not p and q))) and (p or q)</th></tr></thead>\n",
              "<tbody>\n",
              "<tr><td>False</td><td>False</td><td>False</td></tr>\n",
              "<tr><td>False</td><td>True</td><td>False</td></tr>\n",
              "<tr><td>True</td><td>False</td><td>True</td></tr>\n",
              "<tr><td>True</td><td>True</td><td>True</td></tr>\n",
              "</tbody>\n",
              "</table>"
            ]
          },
          "metadata": {},
          "execution_count": 34
        }
      ],
      "source": [
        "TruthTable([\"(p or (not(not p and q))) and (p or q)\"])"
      ]
    },
    {
      "cell_type": "code",
      "execution_count": 35,
      "metadata": {
        "id": "cOzMdDivgxgz",
        "colab": {
          "base_uri": "https://localhost:8080/",
          "height": 123
        },
        "outputId": "99057faf-67da-4684-facd-667ab8d95817"
      },
      "outputs": [
        {
          "output_type": "execute_result",
          "data": {
            "text/plain": [
              "<IPython.core.display.HTML object>"
            ],
            "text/html": [
              "<table id=\"truthtable\">\n",
              "<thead><tr><th>p</th><th>q</th><th>p and (not p and q)</th></tr></thead>\n",
              "<tbody>\n",
              "<tr><td>False</td><td>False</td><td>False</td></tr>\n",
              "<tr><td>False</td><td>True</td><td>False</td></tr>\n",
              "<tr><td>True</td><td>False</td><td>False</td></tr>\n",
              "<tr><td>True</td><td>True</td><td>False</td></tr>\n",
              "</tbody>\n",
              "</table>"
            ]
          },
          "metadata": {},
          "execution_count": 35
        }
      ],
      "source": [
        "TruthTable([\"p and (not p and q)\"])"
      ]
    },
    {
      "cell_type": "code",
      "execution_count": null,
      "metadata": {
        "id": "VDXmNd35gyJn"
      },
      "outputs": [],
      "source": []
    },
    {
      "cell_type": "markdown",
      "metadata": {
        "id": "eoKiLcregqSH"
      },
      "source": [
        "---\n",
        "## Review/Feedback (P01)\n"
      ]
    },
    {
      "cell_type": "code",
      "execution_count": null,
      "metadata": {
        "cellView": "form",
        "id": "n3_Ipe9Vgcmb"
      },
      "outputs": [],
      "source": [
        "#@markdown This a a short questionnaire for you to provide feedback on how you think the semester is progressing and in particular for __Discrete Mathematics__, how easy/difficult, interesting/boring, useful/confusing you find the material. By completing the following you will help us improve our delivery.<br />Please enter your feedback and click on arrow at top-left to save. \n",
        "\n",
        "#@markdown **This practical**\n",
        "\n",
        "#@markdown How difficult did you find this practical?\n",
        "practical_difficulty = 'No opinion' #@param ['No opinion', \"Too easy', 'Easy', 'About right', 'Some bits were hard but overall it was doable', 'Too difficult', 'Impossible']\n",
        "\n",
        "#@markdown Including online session time, how long (in minutes) did it take for you to finish this practical?\n",
        "practical_duration = 0 #@param {type: \"number\"}\n",
        "\n",
        "#@markdown **This week's material**\n",
        "\n",
        "#@markdown How difficult did you find each of the following this week?\n",
        "lecture_difficulty = 'No opinion' #@param ['No opinion', \"Too easy', 'Easy', 'About right', 'Some bits were hard but overall it was doable', 'Too difficult', 'Impossible']\n",
        "\n",
        "tutorial_questions_difficulty = 'No opinion' #@param ['No opinion', \"Too easy', 'Easy', 'About right', 'Some bits were hard but overall it was doable', 'Too difficult', 'Impossible']\n",
        "\n",
        "\n",
        "#@markdown Use the line below to enter any comments &mdash; what you liked, what you did not like. Again all feedback is welcome.\n",
        "general_comment = \"\" #@param {type: \"string\"}\n"
      ]
    },
    {
      "cell_type": "code",
      "execution_count": null,
      "metadata": {
        "id": "6qjrUx16gdMA"
      },
      "outputs": [],
      "source": []
    }
  ],
  "metadata": {
    "colab": {
      "name": "DM_P01_-_Logic_1_-_Truth_Tables.ipynb",
      "provenance": [],
      "toc_visible": true,
      "include_colab_link": true
    },
    "kernelspec": {
      "display_name": "Python 3",
      "language": "python",
      "name": "python3"
    },
    "language_info": {
      "codemirror_mode": {
        "name": "ipython",
        "version": 3
      },
      "file_extension": ".py",
      "mimetype": "text/x-python",
      "name": "python",
      "nbconvert_exporter": "python",
      "pygments_lexer": "ipython3",
      "version": "3.9.5"
    },
    "toc": {
      "toc_cell": false,
      "toc_number_sections": true,
      "toc_threshold": 6,
      "toc_window_display": false
    }
  },
  "nbformat": 4,
  "nbformat_minor": 0
}